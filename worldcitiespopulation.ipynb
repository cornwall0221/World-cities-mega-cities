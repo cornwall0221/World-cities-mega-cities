{
 "cells": [
  {
   "cell_type": "code",
   "execution_count": 82,
   "id": "0374cb7b-c521-4cc4-8507-7014377337d7",
   "metadata": {},
   "outputs": [
    {
     "name": "stderr",
     "output_type": "stream",
     "text": [
      "WARNING: pip is being invoked by an old script wrapper. This will fail in a future version of pip.\n",
      "Please see https://github.com/pypa/pip/issues/5599 for advice on fixing the underlying issue.\n",
      "To avoid this problem you can invoke Python with '-m pip' instead of running pip directly.\n"
     ]
    },
    {
     "data": {
      "text/html": [
       "<pre style=\"white-space:pre;overflow-x:auto;line-height:normal;font-family:Menlo,'DejaVu Sans Mono',consolas,'Courier New',monospace\">Requirement already satisfied: seaborn in c:\\users\\aiden\\anaconda3\\lib\\site-packages (0.13.2)\n",
       "</pre>\n"
      ],
      "text/plain": [
       "Requirement already satisfied: seaborn in c:\\users\\aiden\\anaconda3\\lib\\site-packages (0.13.2)\n"
      ]
     },
     "metadata": {},
     "output_type": "display_data"
    },
    {
     "data": {
      "text/html": [
       "<pre style=\"white-space:pre;overflow-x:auto;line-height:normal;font-family:Menlo,'DejaVu Sans Mono',consolas,'Courier New',monospace\">Requirement already satisfied: numpy!=1.24.0,&gt;=1.20 in c:\\users\\aiden\\anaconda3\\lib\\site-packages (from seaborn) (1.26.4)\n",
       "</pre>\n"
      ],
      "text/plain": [
       "Requirement already satisfied: numpy!=1.24.0,>=1.20 in c:\\users\\aiden\\anaconda3\\lib\\site-packages (from seaborn) (1.26.4)\n"
      ]
     },
     "metadata": {},
     "output_type": "display_data"
    },
    {
     "data": {
      "text/html": [
       "<pre style=\"white-space:pre;overflow-x:auto;line-height:normal;font-family:Menlo,'DejaVu Sans Mono',consolas,'Courier New',monospace\">Requirement already satisfied: pandas&gt;=1.2 in c:\\users\\aiden\\anaconda3\\lib\\site-packages (from seaborn) (2.2.2)\n",
       "</pre>\n"
      ],
      "text/plain": [
       "Requirement already satisfied: pandas>=1.2 in c:\\users\\aiden\\anaconda3\\lib\\site-packages (from seaborn) (2.2.2)\n"
      ]
     },
     "metadata": {},
     "output_type": "display_data"
    },
    {
     "data": {
      "text/html": [
       "<pre style=\"white-space:pre;overflow-x:auto;line-height:normal;font-family:Menlo,'DejaVu Sans Mono',consolas,'Courier New',monospace\">Requirement already satisfied: matplotlib!=3.6.1,&gt;=3.4 in c:\\users\\aiden\\anaconda3\\lib\\site-packages (from seaborn) (3.8.4)\n",
       "</pre>\n"
      ],
      "text/plain": [
       "Requirement already satisfied: matplotlib!=3.6.1,>=3.4 in c:\\users\\aiden\\anaconda3\\lib\\site-packages (from seaborn) (3.8.4)\n"
      ]
     },
     "metadata": {},
     "output_type": "display_data"
    },
    {
     "data": {
      "text/html": [
       "<pre style=\"white-space:pre;overflow-x:auto;line-height:normal;font-family:Menlo,'DejaVu Sans Mono',consolas,'Courier New',monospace\">Requirement already satisfied: contourpy&gt;=1.0.1 in c:\\users\\aiden\\anaconda3\\lib\\site-packages (from matplotlib!=3.6.1,&gt;=3.4-&gt;seaborn) (1.2.0)\n",
       "</pre>\n"
      ],
      "text/plain": [
       "Requirement already satisfied: contourpy>=1.0.1 in c:\\users\\aiden\\anaconda3\\lib\\site-packages (from matplotlib!=3.6.1,>=3.4->seaborn) (1.2.0)\n"
      ]
     },
     "metadata": {},
     "output_type": "display_data"
    },
    {
     "data": {
      "text/html": [
       "<pre style=\"white-space:pre;overflow-x:auto;line-height:normal;font-family:Menlo,'DejaVu Sans Mono',consolas,'Courier New',monospace\">Requirement already satisfied: cycler&gt;=0.10 in c:\\users\\aiden\\anaconda3\\lib\\site-packages (from matplotlib!=3.6.1,&gt;=3.4-&gt;seaborn) (0.11.0)\n",
       "</pre>\n"
      ],
      "text/plain": [
       "Requirement already satisfied: cycler>=0.10 in c:\\users\\aiden\\anaconda3\\lib\\site-packages (from matplotlib!=3.6.1,>=3.4->seaborn) (0.11.0)\n"
      ]
     },
     "metadata": {},
     "output_type": "display_data"
    },
    {
     "data": {
      "text/html": [
       "<pre style=\"white-space:pre;overflow-x:auto;line-height:normal;font-family:Menlo,'DejaVu Sans Mono',consolas,'Courier New',monospace\">Requirement already satisfied: fonttools&gt;=4.22.0 in c:\\users\\aiden\\anaconda3\\lib\\site-packages (from matplotlib!=3.6.1,&gt;=3.4-&gt;seaborn) (4.51.0)\n",
       "</pre>\n"
      ],
      "text/plain": [
       "Requirement already satisfied: fonttools>=4.22.0 in c:\\users\\aiden\\anaconda3\\lib\\site-packages (from matplotlib!=3.6.1,>=3.4->seaborn) (4.51.0)\n"
      ]
     },
     "metadata": {},
     "output_type": "display_data"
    },
    {
     "data": {
      "text/html": [
       "<pre style=\"white-space:pre;overflow-x:auto;line-height:normal;font-family:Menlo,'DejaVu Sans Mono',consolas,'Courier New',monospace\">Requirement already satisfied: kiwisolver&gt;=1.3.1 in c:\\users\\aiden\\anaconda3\\lib\\site-packages (from matplotlib!=3.6.1,&gt;=3.4-&gt;seaborn) (1.4.4)\n",
       "</pre>\n"
      ],
      "text/plain": [
       "Requirement already satisfied: kiwisolver>=1.3.1 in c:\\users\\aiden\\anaconda3\\lib\\site-packages (from matplotlib!=3.6.1,>=3.4->seaborn) (1.4.4)\n"
      ]
     },
     "metadata": {},
     "output_type": "display_data"
    },
    {
     "data": {
      "text/html": [
       "<pre style=\"white-space:pre;overflow-x:auto;line-height:normal;font-family:Menlo,'DejaVu Sans Mono',consolas,'Courier New',monospace\">Requirement already satisfied: packaging&gt;=20.0 in c:\\users\\aiden\\anaconda3\\lib\\site-packages (from matplotlib!=3.6.1,&gt;=3.4-&gt;seaborn) (23.2)\n",
       "</pre>\n"
      ],
      "text/plain": [
       "Requirement already satisfied: packaging>=20.0 in c:\\users\\aiden\\anaconda3\\lib\\site-packages (from matplotlib!=3.6.1,>=3.4->seaborn) (23.2)\n"
      ]
     },
     "metadata": {},
     "output_type": "display_data"
    },
    {
     "data": {
      "text/html": [
       "<pre style=\"white-space:pre;overflow-x:auto;line-height:normal;font-family:Menlo,'DejaVu Sans Mono',consolas,'Courier New',monospace\">Requirement already satisfied: pillow&gt;=8 in c:\\users\\aiden\\anaconda3\\lib\\site-packages (from matplotlib!=3.6.1,&gt;=3.4-&gt;seaborn) (10.3.0)\n",
       "</pre>\n"
      ],
      "text/plain": [
       "Requirement already satisfied: pillow>=8 in c:\\users\\aiden\\anaconda3\\lib\\site-packages (from matplotlib!=3.6.1,>=3.4->seaborn) (10.3.0)\n"
      ]
     },
     "metadata": {},
     "output_type": "display_data"
    },
    {
     "data": {
      "text/html": [
       "<pre style=\"white-space:pre;overflow-x:auto;line-height:normal;font-family:Menlo,'DejaVu Sans Mono',consolas,'Courier New',monospace\">Requirement already satisfied: pyparsing&gt;=2.3.1 in c:\\users\\aiden\\anaconda3\\lib\\site-packages (from matplotlib!=3.6.1,&gt;=3.4-&gt;seaborn) (3.0.9)\n",
       "</pre>\n"
      ],
      "text/plain": [
       "Requirement already satisfied: pyparsing>=2.3.1 in c:\\users\\aiden\\anaconda3\\lib\\site-packages (from matplotlib!=3.6.1,>=3.4->seaborn) (3.0.9)\n"
      ]
     },
     "metadata": {},
     "output_type": "display_data"
    },
    {
     "data": {
      "text/html": [
       "<pre style=\"white-space:pre;overflow-x:auto;line-height:normal;font-family:Menlo,'DejaVu Sans Mono',consolas,'Courier New',monospace\">Requirement already satisfied: python-dateutil&gt;=2.7 in c:\\users\\aiden\\anaconda3\\lib\\site-packages (from matplotlib!=3.6.1,&gt;=3.4-&gt;seaborn) (2.9.0.post0)\n",
       "</pre>\n"
      ],
      "text/plain": [
       "Requirement already satisfied: python-dateutil>=2.7 in c:\\users\\aiden\\anaconda3\\lib\\site-packages (from matplotlib!=3.6.1,>=3.4->seaborn) (2.9.0.post0)\n"
      ]
     },
     "metadata": {},
     "output_type": "display_data"
    },
    {
     "data": {
      "text/html": [
       "<pre style=\"white-space:pre;overflow-x:auto;line-height:normal;font-family:Menlo,'DejaVu Sans Mono',consolas,'Courier New',monospace\">Requirement already satisfied: pytz&gt;=2020.1 in c:\\users\\aiden\\anaconda3\\lib\\site-packages (from pandas&gt;=1.2-&gt;seaborn) (2024.1)\n",
       "</pre>\n"
      ],
      "text/plain": [
       "Requirement already satisfied: pytz>=2020.1 in c:\\users\\aiden\\anaconda3\\lib\\site-packages (from pandas>=1.2->seaborn) (2024.1)\n"
      ]
     },
     "metadata": {},
     "output_type": "display_data"
    },
    {
     "data": {
      "text/html": [
       "<pre style=\"white-space:pre;overflow-x:auto;line-height:normal;font-family:Menlo,'DejaVu Sans Mono',consolas,'Courier New',monospace\">Requirement already satisfied: tzdata&gt;=2022.7 in c:\\users\\aiden\\anaconda3\\lib\\site-packages (from pandas&gt;=1.2-&gt;seaborn) (2023.3)\n",
       "</pre>\n"
      ],
      "text/plain": [
       "Requirement already satisfied: tzdata>=2022.7 in c:\\users\\aiden\\anaconda3\\lib\\site-packages (from pandas>=1.2->seaborn) (2023.3)\n"
      ]
     },
     "metadata": {},
     "output_type": "display_data"
    },
    {
     "data": {
      "text/html": [
       "<pre style=\"white-space:pre;overflow-x:auto;line-height:normal;font-family:Menlo,'DejaVu Sans Mono',consolas,'Courier New',monospace\">Requirement already satisfied: six&gt;=1.5 in c:\\users\\aiden\\anaconda3\\lib\\site-packages (from python-dateutil&gt;=2.7-&gt;matplotlib!=3.6.1,&gt;=3.4-&gt;seaborn) (1.16.0)\n",
       "</pre>\n"
      ],
      "text/plain": [
       "Requirement already satisfied: six>=1.5 in c:\\users\\aiden\\anaconda3\\lib\\site-packages (from python-dateutil>=2.7->matplotlib!=3.6.1,>=3.4->seaborn) (1.16.0)\n"
      ]
     },
     "metadata": {},
     "output_type": "display_data"
    }
   ],
   "source": [
    "import pip\n",
    "pip.main(['install','seaborn'])\n",
    "from __future__ import print_function\n",
    "import pandas as pd\n",
    "import numpy as np\n",
    "import seaborn as sns\n",
    "import matplotlib.pyplot as plt\n",
    "dataset=pd.read_csv('C:/datasets/World Largest Cities by Population 2024.csv')\n"
   ]
  },
  {
   "cell_type": "code",
   "execution_count": 83,
   "id": "711c8469-b944-4e1f-acae-24be221b0f57",
   "metadata": {},
   "outputs": [
    {
     "data": {
      "text/html": [
       "<div>\n",
       "<style scoped>\n",
       "    .dataframe tbody tr th:only-of-type {\n",
       "        vertical-align: middle;\n",
       "    }\n",
       "\n",
       "    .dataframe tbody tr th {\n",
       "        vertical-align: top;\n",
       "    }\n",
       "\n",
       "    .dataframe thead th {\n",
       "        text-align: right;\n",
       "    }\n",
       "</style>\n",
       "<table border=\"1\" class=\"dataframe\">\n",
       "  <thead>\n",
       "    <tr style=\"text-align: right;\">\n",
       "      <th></th>\n",
       "      <th>Unnamed: 0</th>\n",
       "      <th>City</th>\n",
       "      <th>Country</th>\n",
       "      <th>Population (2024)</th>\n",
       "      <th>Population (2023)</th>\n",
       "      <th>Growth Rate</th>\n",
       "    </tr>\n",
       "  </thead>\n",
       "  <tbody>\n",
       "    <tr>\n",
       "      <th>0</th>\n",
       "      <td>0</td>\n",
       "      <td>Tokyo</td>\n",
       "      <td>Japan</td>\n",
       "      <td>37115035</td>\n",
       "      <td>37194105</td>\n",
       "      <td>-0.0021</td>\n",
       "    </tr>\n",
       "    <tr>\n",
       "      <th>1</th>\n",
       "      <td>1</td>\n",
       "      <td>Delhi</td>\n",
       "      <td>India</td>\n",
       "      <td>33807403</td>\n",
       "      <td>32941309</td>\n",
       "      <td>0.0263</td>\n",
       "    </tr>\n",
       "    <tr>\n",
       "      <th>2</th>\n",
       "      <td>2</td>\n",
       "      <td>Shanghai</td>\n",
       "      <td>China</td>\n",
       "      <td>29867918</td>\n",
       "      <td>29210808</td>\n",
       "      <td>0.0225</td>\n",
       "    </tr>\n",
       "    <tr>\n",
       "      <th>3</th>\n",
       "      <td>3</td>\n",
       "      <td>Dhaka</td>\n",
       "      <td>Bangladesh</td>\n",
       "      <td>23935652</td>\n",
       "      <td>23209616</td>\n",
       "      <td>0.0313</td>\n",
       "    </tr>\n",
       "    <tr>\n",
       "      <th>4</th>\n",
       "      <td>4</td>\n",
       "      <td>Sao Paulo</td>\n",
       "      <td>Brazil</td>\n",
       "      <td>22806704</td>\n",
       "      <td>22619736</td>\n",
       "      <td>0.0083</td>\n",
       "    </tr>\n",
       "  </tbody>\n",
       "</table>\n",
       "</div>"
      ],
      "text/plain": [
       "   Unnamed: 0       City     Country  Population (2024)  Population (2023)  \\\n",
       "0           0      Tokyo       Japan           37115035           37194105   \n",
       "1           1      Delhi       India           33807403           32941309   \n",
       "2           2   Shanghai       China           29867918           29210808   \n",
       "3           3      Dhaka  Bangladesh           23935652           23209616   \n",
       "4           4  Sao Paulo      Brazil           22806704           22619736   \n",
       "\n",
       "   Growth Rate  \n",
       "0      -0.0021  \n",
       "1       0.0263  \n",
       "2       0.0225  \n",
       "3       0.0313  \n",
       "4       0.0083  "
      ]
     },
     "execution_count": 83,
     "metadata": {},
     "output_type": "execute_result"
    }
   ],
   "source": [
    "dataset.head()"
   ]
  },
  {
   "cell_type": "code",
   "execution_count": 88,
   "id": "e2c090e5-9003-4c01-8d87-e21618399e25",
   "metadata": {},
   "outputs": [],
   "source": [
    "#Cities sorted by growth rate,ascending\n",
    "sorted_dataset_gr=dataset.sort_values([\"Growth Rate\"]) "
   ]
  },
  {
   "cell_type": "code",
   "execution_count": 90,
   "id": "4c2dd94f-3a76-4d3f-b9fa-02c569ed0412",
   "metadata": {},
   "outputs": [
    {
     "data": {
      "text/html": [
       "<div>\n",
       "<style scoped>\n",
       "    .dataframe tbody tr th:only-of-type {\n",
       "        vertical-align: middle;\n",
       "    }\n",
       "\n",
       "    .dataframe tbody tr th {\n",
       "        vertical-align: top;\n",
       "    }\n",
       "\n",
       "    .dataframe thead th {\n",
       "        text-align: right;\n",
       "    }\n",
       "</style>\n",
       "<table border=\"1\" class=\"dataframe\">\n",
       "  <thead>\n",
       "    <tr style=\"text-align: right;\">\n",
       "      <th></th>\n",
       "      <th>Unnamed: 0</th>\n",
       "      <th>City</th>\n",
       "      <th>Country</th>\n",
       "      <th>Population (2024)</th>\n",
       "      <th>Population (2023)</th>\n",
       "      <th>Growth Rate</th>\n",
       "    </tr>\n",
       "  </thead>\n",
       "  <tbody>\n",
       "    <tr>\n",
       "      <th>48</th>\n",
       "      <td>48</td>\n",
       "      <td>New York</td>\n",
       "      <td>United States</td>\n",
       "      <td>7931147</td>\n",
       "      <td>8133522</td>\n",
       "      <td>-0.0249</td>\n",
       "    </tr>\n",
       "    <tr>\n",
       "      <th>645</th>\n",
       "      <td>645</td>\n",
       "      <td>San Jose</td>\n",
       "      <td>United States</td>\n",
       "      <td>932636</td>\n",
       "      <td>951934</td>\n",
       "      <td>-0.0203</td>\n",
       "    </tr>\n",
       "    <tr>\n",
       "      <th>199</th>\n",
       "      <td>199</td>\n",
       "      <td>Chicago</td>\n",
       "      <td>United States</td>\n",
       "      <td>2590002</td>\n",
       "      <td>2627520</td>\n",
       "      <td>-0.0143</td>\n",
       "    </tr>\n",
       "    <tr>\n",
       "      <th>355</th>\n",
       "      <td>355</td>\n",
       "      <td>Philadelphia</td>\n",
       "      <td>United States</td>\n",
       "      <td>1533916</td>\n",
       "      <td>1550587</td>\n",
       "      <td>-0.0107</td>\n",
       "    </tr>\n",
       "    <tr>\n",
       "      <th>129</th>\n",
       "      <td>129</td>\n",
       "      <td>Los Angeles</td>\n",
       "      <td>United States</td>\n",
       "      <td>3748640</td>\n",
       "      <td>3785439</td>\n",
       "      <td>-0.0097</td>\n",
       "    </tr>\n",
       "  </tbody>\n",
       "</table>\n",
       "</div>"
      ],
      "text/plain": [
       "     Unnamed: 0          City        Country  Population (2024)  \\\n",
       "48           48      New York  United States            7931147   \n",
       "645         645      San Jose  United States             932636   \n",
       "199         199       Chicago  United States            2590002   \n",
       "355         355  Philadelphia  United States            1533916   \n",
       "129         129   Los Angeles  United States            3748640   \n",
       "\n",
       "     Population (2023)  Growth Rate  \n",
       "48             8133522      -0.0249  \n",
       "645             951934      -0.0203  \n",
       "199            2627520      -0.0143  \n",
       "355            1550587      -0.0107  \n",
       "129            3785439      -0.0097  "
      ]
     },
     "execution_count": 90,
     "metadata": {},
     "output_type": "execute_result"
    }
   ],
   "source": [
    "sorted_dataset_gr.head()"
   ]
  },
  {
   "cell_type": "code",
   "execution_count": 96,
   "id": "0cedf4be-86f9-4b52-bbe7-39048f9368fc",
   "metadata": {},
   "outputs": [],
   "source": [
    "population_by_country=sorted_dataset_gr.groupby(\"Country\")['Population (2024)'].sum()"
   ]
  },
  {
   "cell_type": "code",
   "execution_count": 98,
   "id": "8dc75594-42b9-497b-a155-3d0b4851544d",
   "metadata": {},
   "outputs": [
    {
     "data": {
      "text/plain": [
       "Country\n",
       "Afghanistan     4728384\n",
       "Algeria         3902883\n",
       "Angola         14018657\n",
       "Argentina      22062526\n",
       "Armenia         1097542\n",
       "Name: Population (2024), dtype: int64"
      ]
     },
     "execution_count": 98,
     "metadata": {},
     "output_type": "execute_result"
    }
   ],
   "source": [
    "#total population of all the mega cities in each country\n",
    "population_by_country.head()"
   ]
  },
  {
   "cell_type": "code",
   "execution_count": 102,
   "id": "b5195591-281a-4a37-a6f7-02d1ae74f227",
   "metadata": {},
   "outputs": [],
   "source": [
    "#List of mega cities\n",
    "Mega_cities=dataset[dataset[\"Population (2024)\"]>=8000000]"
   ]
  },
  {
   "cell_type": "code",
   "execution_count": 120,
   "id": "d1653011-2dad-4d57-8b0c-16c3e531b886",
   "metadata": {},
   "outputs": [
    {
     "data": {
      "text/html": [
       "<div>\n",
       "<style scoped>\n",
       "    .dataframe tbody tr th:only-of-type {\n",
       "        vertical-align: middle;\n",
       "    }\n",
       "\n",
       "    .dataframe tbody tr th {\n",
       "        vertical-align: top;\n",
       "    }\n",
       "\n",
       "    .dataframe thead th {\n",
       "        text-align: right;\n",
       "    }\n",
       "</style>\n",
       "<table border=\"1\" class=\"dataframe\">\n",
       "  <thead>\n",
       "    <tr style=\"text-align: right;\">\n",
       "      <th></th>\n",
       "      <th>Unnamed: 0</th>\n",
       "      <th>City</th>\n",
       "      <th>Country</th>\n",
       "      <th>Population (2024)</th>\n",
       "      <th>Population (2023)</th>\n",
       "      <th>Growth Rate</th>\n",
       "    </tr>\n",
       "  </thead>\n",
       "  <tbody>\n",
       "    <tr>\n",
       "      <th>0</th>\n",
       "      <td>0</td>\n",
       "      <td>Tokyo</td>\n",
       "      <td>Japan</td>\n",
       "      <td>37115035</td>\n",
       "      <td>37194105</td>\n",
       "      <td>-0.0021</td>\n",
       "    </tr>\n",
       "    <tr>\n",
       "      <th>1</th>\n",
       "      <td>1</td>\n",
       "      <td>Delhi</td>\n",
       "      <td>India</td>\n",
       "      <td>33807403</td>\n",
       "      <td>32941309</td>\n",
       "      <td>0.0263</td>\n",
       "    </tr>\n",
       "    <tr>\n",
       "      <th>2</th>\n",
       "      <td>2</td>\n",
       "      <td>Shanghai</td>\n",
       "      <td>China</td>\n",
       "      <td>29867918</td>\n",
       "      <td>29210808</td>\n",
       "      <td>0.0225</td>\n",
       "    </tr>\n",
       "    <tr>\n",
       "      <th>3</th>\n",
       "      <td>3</td>\n",
       "      <td>Dhaka</td>\n",
       "      <td>Bangladesh</td>\n",
       "      <td>23935652</td>\n",
       "      <td>23209616</td>\n",
       "      <td>0.0313</td>\n",
       "    </tr>\n",
       "    <tr>\n",
       "      <th>4</th>\n",
       "      <td>4</td>\n",
       "      <td>Sao Paulo</td>\n",
       "      <td>Brazil</td>\n",
       "      <td>22806704</td>\n",
       "      <td>22619736</td>\n",
       "      <td>0.0083</td>\n",
       "    </tr>\n",
       "    <tr>\n",
       "      <th>5</th>\n",
       "      <td>5</td>\n",
       "      <td>Cairo</td>\n",
       "      <td>Egypt</td>\n",
       "      <td>22623874</td>\n",
       "      <td>22183201</td>\n",
       "      <td>0.0199</td>\n",
       "    </tr>\n",
       "    <tr>\n",
       "      <th>6</th>\n",
       "      <td>6</td>\n",
       "      <td>Mexico City</td>\n",
       "      <td>Mexico</td>\n",
       "      <td>22505315</td>\n",
       "      <td>22281442</td>\n",
       "      <td>0.0100</td>\n",
       "    </tr>\n",
       "    <tr>\n",
       "      <th>7</th>\n",
       "      <td>7</td>\n",
       "      <td>Beijing</td>\n",
       "      <td>China</td>\n",
       "      <td>22189082</td>\n",
       "      <td>21766214</td>\n",
       "      <td>0.0194</td>\n",
       "    </tr>\n",
       "  </tbody>\n",
       "</table>\n",
       "</div>"
      ],
      "text/plain": [
       "   Unnamed: 0         City     Country  Population (2024)  Population (2023)  \\\n",
       "0           0        Tokyo       Japan           37115035           37194105   \n",
       "1           1        Delhi       India           33807403           32941309   \n",
       "2           2     Shanghai       China           29867918           29210808   \n",
       "3           3        Dhaka  Bangladesh           23935652           23209616   \n",
       "4           4    Sao Paulo      Brazil           22806704           22619736   \n",
       "5           5        Cairo       Egypt           22623874           22183201   \n",
       "6           6  Mexico City      Mexico           22505315           22281442   \n",
       "7           7      Beijing       China           22189082           21766214   \n",
       "\n",
       "   Growth Rate  \n",
       "0      -0.0021  \n",
       "1       0.0263  \n",
       "2       0.0225  \n",
       "3       0.0313  \n",
       "4       0.0083  \n",
       "5       0.0199  \n",
       "6       0.0100  \n",
       "7       0.0194  "
      ]
     },
     "execution_count": 120,
     "metadata": {},
     "output_type": "execute_result"
    }
   ],
   "source": [
    "Mega_cities.head(8)"
   ]
  },
  {
   "cell_type": "code",
   "execution_count": 108,
   "id": "1bc07c25-18e2-46ef-a65f-dcadbd7c1c05",
   "metadata": {},
   "outputs": [
    {
     "data": {
      "text/plain": [
       "Country       \n",
       "China             12\n",
       "India              8\n",
       "Japan              3\n",
       "Brazil             2\n",
       "Pakistan           2\n",
       "Angola             1\n",
       "Nigeria            1\n",
       "United Kingdom     1\n",
       "Turkey             1\n",
       "Thailand           1\n",
       "Name: count, dtype: int64"
      ]
     },
     "execution_count": 108,
     "metadata": {},
     "output_type": "execute_result"
    }
   ],
   "source": [
    "#Number of mega cities in each country\n",
    "Mega_cities.value_counts([\"Country\"]).head(10)"
   ]
  },
  {
   "cell_type": "code",
   "execution_count": 110,
   "id": "1060ce6d-18e5-4170-9966-819d4e1f00cf",
   "metadata": {},
   "outputs": [],
   "source": [
    "dict={\"Asia\":['China','Japan','India','Pakistan','Turkey','Thailand'],'Europe':'United kingdom','Africa':[\"Nigeria\",'Angola'],'S.America':'Brazil'}"
   ]
  },
  {
   "cell_type": "code",
   "execution_count": 164,
   "id": "fe879f72-3e0d-47d7-95f6-367ba3117fcf",
   "metadata": {},
   "outputs": [],
   "source": [
    "largest_city=Mega_cities['City'].head(8)\n",
    "largest_pop_23=Mega_cities['Population (2023)'].head(8)\n",
    "largest_pop_24=Mega_cities['Population (2024)'].head(8)"
   ]
  },
  {
   "cell_type": "code",
   "execution_count": 178,
   "id": "38497d75-ac22-4eb1-ad42-f3802771e713",
   "metadata": {},
   "outputs": [
    {
     "data": {
      "image/png": "[encoded data removed]",
      "text/plain": [
       "<Figure size 700x1100 with 1 Axes>"
      ]
     },
     "metadata": {},
     "output_type": "display_data"
    }
   ],
   "source": [
    "#Population of top 8 mega cities in 2024\n",
    "fig=plt.figure(figsize=(7,11))\n",
    "plt.bar(largest_city,largest_pop_24,color='green',width=0.75)\n",
    "plt.xlabel('Cities',fontsize=22)\n",
    "plt.ylabel(\"Population in 10 million\",fontsize=22)\n",
    "plt.title(\"The population of top 8 mega cities\",fontsize=26)\n",
    "plt.show()"
   ]
  },
  {
   "cell_type": "code",
   "execution_count": 254,
   "id": "d4edfa35-598c-4e54-85cc-0f242a05f200",
   "metadata": {},
   "outputs": [
    {
     "data": {
      "image/png": "[encoded data removed]",
      "text/plain": [
       "<Figure size 640x480 with 1 Axes>"
      ]
     },
     "metadata": {},
     "output_type": "display_data"
    }
   ],
   "source": [
    "#Population of top 8 cities in 2023 and 2024\n",
    "k=np.arange(len(largest_city))\n",
    "plt.bar(k-0.2,largest_pop_23,width=0.4,label='2023',color='darkblue')\n",
    "plt.bar(k+0.2,largest_pop_24,width=0.4,label='2024',color='cyan')\n",
    "plt.xticks(k,largest_city,fontsize=9)\n",
    "plt.xlabel('Cities',fontsize=16)\n",
    "plt.ylabel(\"Population in 10 million\",fontsize=16)\n",
    "plt.title(\"The population of top 8 mega cities\",fontsize=20)\n",
    "plt.legend()\n",
    "plt.show()"
   ]
  },
  {
   "cell_type": "code",
   "execution_count": 264,
   "id": "55454611-5cfb-43b8-ba46-cb4323cefd31",
   "metadata": {},
   "outputs": [],
   "source": [
    "positive_growth_count=dataset.value_counts(dataset['Growth Rate']>0)"
   ]
  },
  {
   "cell_type": "code",
   "execution_count": 286,
   "id": "998c8081-e2e6-4d6c-aa1f-b71b3c79390d",
   "metadata": {},
   "outputs": [
    {
     "data": {
      "text/plain": [
       "([<matplotlib.patches.Wedge at 0x1e1ec889220>,\n",
       "  <matplotlib.patches.Wedge at 0x1e1ec889580>],\n",
       " [Text(-1.089652115124815, 0.15052663553011786, 'Positive'),\n",
       "  Text(1.089652109839819, -0.1505266737878402, 'Negative')],\n",
       " [Text(-0.59435569915899, 0.08210543756188246, '95.6%'),\n",
       "  Text(0.5943556962762649, -0.08210545842973101, '4.4%')])"
      ]
     },
     "execution_count": 286,
     "metadata": {},
     "output_type": "execute_result"
    },
    {
     "data": {
      "image/png": "[encoded data removed]",
      "text/plain": [
       "<Figure size 640x480 with 1 Axes>"
      ]
     },
     "metadata": {},
     "output_type": "display_data"
    }
   ],
   "source": [
    "#Ratio of Positive vs negative growth rate\n",
    "fig, ax = plt.subplots()\n",
    "ax.pie(positive_growth_count,labels=['Positive','Negative'],autopct='%1.1f%%',colors=['olivedrab', 'rosybrown'],hatch=['','//'])"
   ]
  },
  {
   "cell_type": "code",
   "execution_count": 288,
   "id": "c9540217-812c-48be-9cae-fc16d3fc50f1",
   "metadata": {},
   "outputs": [
    {
     "data": {
      "text/html": [
       "<div>\n",
       "<style scoped>\n",
       "    .dataframe tbody tr th:only-of-type {\n",
       "        vertical-align: middle;\n",
       "    }\n",
       "\n",
       "    .dataframe tbody tr th {\n",
       "        vertical-align: top;\n",
       "    }\n",
       "\n",
       "    .dataframe thead th {\n",
       "        text-align: right;\n",
       "    }\n",
       "</style>\n",
       "<table border=\"1\" class=\"dataframe\">\n",
       "  <thead>\n",
       "    <tr style=\"text-align: right;\">\n",
       "      <th></th>\n",
       "      <th>Unnamed: 0</th>\n",
       "      <th>Population (2024)</th>\n",
       "      <th>Population (2023)</th>\n",
       "      <th>Growth Rate</th>\n",
       "    </tr>\n",
       "  </thead>\n",
       "  <tbody>\n",
       "    <tr>\n",
       "      <th>count</th>\n",
       "      <td>801.000000</td>\n",
       "      <td>8.010000e+02</td>\n",
       "      <td>8.010000e+02</td>\n",
       "      <td>801.000000</td>\n",
       "    </tr>\n",
       "    <tr>\n",
       "      <th>mean</th>\n",
       "      <td>400.000000</td>\n",
       "      <td>2.654327e+06</td>\n",
       "      <td>2.604461e+06</td>\n",
       "      <td>0.020051</td>\n",
       "    </tr>\n",
       "    <tr>\n",
       "      <th>std</th>\n",
       "      <td>231.373075</td>\n",
       "      <td>3.723253e+06</td>\n",
       "      <td>3.661201e+06</td>\n",
       "      <td>0.012180</td>\n",
       "    </tr>\n",
       "    <tr>\n",
       "      <th>min</th>\n",
       "      <td>0.000000</td>\n",
       "      <td>7.500360e+05</td>\n",
       "      <td>7.228360e+05</td>\n",
       "      <td>-0.024900</td>\n",
       "    </tr>\n",
       "    <tr>\n",
       "      <th>25%</th>\n",
       "      <td>200.000000</td>\n",
       "      <td>9.909310e+05</td>\n",
       "      <td>9.698040e+05</td>\n",
       "      <td>0.012200</td>\n",
       "    </tr>\n",
       "    <tr>\n",
       "      <th>50%</th>\n",
       "      <td>400.000000</td>\n",
       "      <td>1.379368e+06</td>\n",
       "      <td>1.363510e+06</td>\n",
       "      <td>0.019700</td>\n",
       "    </tr>\n",
       "    <tr>\n",
       "      <th>75%</th>\n",
       "      <td>600.000000</td>\n",
       "      <td>2.570980e+06</td>\n",
       "      <td>2.514077e+06</td>\n",
       "      <td>0.026600</td>\n",
       "    </tr>\n",
       "    <tr>\n",
       "      <th>max</th>\n",
       "      <td>800.000000</td>\n",
       "      <td>3.711504e+07</td>\n",
       "      <td>3.719410e+07</td>\n",
       "      <td>0.058200</td>\n",
       "    </tr>\n",
       "  </tbody>\n",
       "</table>\n",
       "</div>"
      ],
      "text/plain": [
       "       Unnamed: 0  Population (2024)  Population (2023)  Growth Rate\n",
       "count  801.000000       8.010000e+02       8.010000e+02   801.000000\n",
       "mean   400.000000       2.654327e+06       2.604461e+06     0.020051\n",
       "std    231.373075       3.723253e+06       3.661201e+06     0.012180\n",
       "min      0.000000       7.500360e+05       7.228360e+05    -0.024900\n",
       "25%    200.000000       9.909310e+05       9.698040e+05     0.012200\n",
       "50%    400.000000       1.379368e+06       1.363510e+06     0.019700\n",
       "75%    600.000000       2.570980e+06       2.514077e+06     0.026600\n",
       "max    800.000000       3.711504e+07       3.719410e+07     0.058200"
      ]
     },
     "execution_count": 288,
     "metadata": {},
     "output_type": "execute_result"
    }
   ],
   "source": [
    "dataset.describe()"
   ]
  },
  {
   "cell_type": "code",
   "execution_count": 304,
   "id": "3848329c-dd2d-4e75-91bd-cbe4f8ecb14c",
   "metadata": {},
   "outputs": [
    {
     "data": {
      "text/plain": [
       "<Axes: xlabel='Population (2024)', ylabel='Count'>"
      ]
     },
     "execution_count": 304,
     "metadata": {},
     "output_type": "execute_result"
    },
    {
     "data": {
      "image/png": "[encoded data removed]",
      "text/plain": [
       "<Figure size 640x480 with 1 Axes>"
      ]
     },
     "metadata": {},
     "output_type": "display_data"
    }
   ],
   "source": [
    "#Histogram of cities which have population larger than 2 mil\n",
    "larger_than_2_mil=dataset[dataset['Population (2024)']>2000000]\n",
    "sns.histplot(x=larger_than_2_mil['Population (2024)'],bins=20,kde=True,color='springgreen')"
   ]
  },
  {
   "cell_type": "code",
   "execution_count": 320,
   "id": "50b7718f-fc9d-4ec8-b06e-c428bb78dada",
   "metadata": {},
   "outputs": [
    {
     "data": {
      "text/html": [
       "<div>\n",
       "<style scoped>\n",
       "    .dataframe tbody tr th:only-of-type {\n",
       "        vertical-align: middle;\n",
       "    }\n",
       "\n",
       "    .dataframe tbody tr th {\n",
       "        vertical-align: top;\n",
       "    }\n",
       "\n",
       "    .dataframe thead th {\n",
       "        text-align: right;\n",
       "    }\n",
       "</style>\n",
       "<table border=\"1\" class=\"dataframe\">\n",
       "  <thead>\n",
       "    <tr style=\"text-align: right;\">\n",
       "      <th></th>\n",
       "      <th>Unnamed: 0</th>\n",
       "      <th>City</th>\n",
       "      <th>Country</th>\n",
       "      <th>Population (2024)</th>\n",
       "      <th>Population (2023)</th>\n",
       "      <th>Growth Rate</th>\n",
       "    </tr>\n",
       "  </thead>\n",
       "  <tbody>\n",
       "    <tr>\n",
       "      <th>2</th>\n",
       "      <td>2</td>\n",
       "      <td>Shanghai</td>\n",
       "      <td>China</td>\n",
       "      <td>29867918</td>\n",
       "      <td>29210808</td>\n",
       "      <td>0.0225</td>\n",
       "    </tr>\n",
       "    <tr>\n",
       "      <th>7</th>\n",
       "      <td>7</td>\n",
       "      <td>Beijing</td>\n",
       "      <td>China</td>\n",
       "      <td>22189082</td>\n",
       "      <td>21766214</td>\n",
       "      <td>0.0194</td>\n",
       "    </tr>\n",
       "    <tr>\n",
       "      <th>10</th>\n",
       "      <td>10</td>\n",
       "      <td>Chongqing</td>\n",
       "      <td>China</td>\n",
       "      <td>17773923</td>\n",
       "      <td>17340704</td>\n",
       "      <td>0.0250</td>\n",
       "    </tr>\n",
       "    <tr>\n",
       "      <th>18</th>\n",
       "      <td>18</td>\n",
       "      <td>Guangzhou</td>\n",
       "      <td>China</td>\n",
       "      <td>14590096</td>\n",
       "      <td>14284353</td>\n",
       "      <td>0.0214</td>\n",
       "    </tr>\n",
       "    <tr>\n",
       "      <th>19</th>\n",
       "      <td>19</td>\n",
       "      <td>Tianjin</td>\n",
       "      <td>China</td>\n",
       "      <td>14470873</td>\n",
       "      <td>14238643</td>\n",
       "      <td>0.0163</td>\n",
       "    </tr>\n",
       "    <tr>\n",
       "      <th>23</th>\n",
       "      <td>23</td>\n",
       "      <td>Shenzhen</td>\n",
       "      <td>China</td>\n",
       "      <td>13311855</td>\n",
       "      <td>13072633</td>\n",
       "      <td>0.0183</td>\n",
       "    </tr>\n",
       "    <tr>\n",
       "      <th>33</th>\n",
       "      <td>33</td>\n",
       "      <td>Nanjing</td>\n",
       "      <td>China</td>\n",
       "      <td>9947548</td>\n",
       "      <td>9698464</td>\n",
       "      <td>0.0257</td>\n",
       "    </tr>\n",
       "    <tr>\n",
       "      <th>34</th>\n",
       "      <td>34</td>\n",
       "      <td>Chengdu</td>\n",
       "      <td>China</td>\n",
       "      <td>9828110</td>\n",
       "      <td>9653772</td>\n",
       "      <td>0.0181</td>\n",
       "    </tr>\n",
       "    <tr>\n",
       "      <th>40</th>\n",
       "      <td>40</td>\n",
       "      <td>Xi An Shaanxi</td>\n",
       "      <td>China</td>\n",
       "      <td>9013837</td>\n",
       "      <td>8785174</td>\n",
       "      <td>0.0260</td>\n",
       "    </tr>\n",
       "    <tr>\n",
       "      <th>42</th>\n",
       "      <td>42</td>\n",
       "      <td>Wuhan</td>\n",
       "      <td>China</td>\n",
       "      <td>8850850</td>\n",
       "      <td>8718250</td>\n",
       "      <td>0.0152</td>\n",
       "    </tr>\n",
       "    <tr>\n",
       "      <th>44</th>\n",
       "      <td>44</td>\n",
       "      <td>Hangzhou</td>\n",
       "      <td>China</td>\n",
       "      <td>8419842</td>\n",
       "      <td>8237206</td>\n",
       "      <td>0.0222</td>\n",
       "    </tr>\n",
       "    <tr>\n",
       "      <th>45</th>\n",
       "      <td>45</td>\n",
       "      <td>Suzhou</td>\n",
       "      <td>China</td>\n",
       "      <td>8350625</td>\n",
       "      <td>8074031</td>\n",
       "      <td>0.0343</td>\n",
       "    </tr>\n",
       "    <tr>\n",
       "      <th>50</th>\n",
       "      <td>50</td>\n",
       "      <td>Shenyang</td>\n",
       "      <td>China</td>\n",
       "      <td>7830377</td>\n",
       "      <td>7680967</td>\n",
       "      <td>0.0195</td>\n",
       "    </tr>\n",
       "    <tr>\n",
       "      <th>53</th>\n",
       "      <td>53</td>\n",
       "      <td>Foshan</td>\n",
       "      <td>China</td>\n",
       "      <td>7704935</td>\n",
       "      <td>7597386</td>\n",
       "      <td>0.0142</td>\n",
       "    </tr>\n",
       "    <tr>\n",
       "      <th>54</th>\n",
       "      <td>54</td>\n",
       "      <td>Dongguan</td>\n",
       "      <td>China</td>\n",
       "      <td>7675146</td>\n",
       "      <td>7587049</td>\n",
       "      <td>0.0116</td>\n",
       "    </tr>\n",
       "    <tr>\n",
       "      <th>57</th>\n",
       "      <td>57</td>\n",
       "      <td>Haerbin</td>\n",
       "      <td>China</td>\n",
       "      <td>6938008</td>\n",
       "      <td>6803811</td>\n",
       "      <td>0.0197</td>\n",
       "    </tr>\n",
       "    <tr>\n",
       "      <th>63</th>\n",
       "      <td>63</td>\n",
       "      <td>Dalian</td>\n",
       "      <td>China</td>\n",
       "      <td>6217487</td>\n",
       "      <td>6077995</td>\n",
       "      <td>0.0230</td>\n",
       "    </tr>\n",
       "    <tr>\n",
       "      <th>65</th>\n",
       "      <td>65</td>\n",
       "      <td>Qingdao</td>\n",
       "      <td>China</td>\n",
       "      <td>6104597</td>\n",
       "      <td>5986525</td>\n",
       "      <td>0.0197</td>\n",
       "    </tr>\n",
       "    <tr>\n",
       "      <th>66</th>\n",
       "      <td>66</td>\n",
       "      <td>Zhengzhou</td>\n",
       "      <td>China</td>\n",
       "      <td>6014887</td>\n",
       "      <td>5859272</td>\n",
       "      <td>0.0266</td>\n",
       "    </tr>\n",
       "    <tr>\n",
       "      <th>67</th>\n",
       "      <td>67</td>\n",
       "      <td>Ji Nan Shandong</td>\n",
       "      <td>China</td>\n",
       "      <td>5940698</td>\n",
       "      <td>5806031</td>\n",
       "      <td>0.0232</td>\n",
       "    </tr>\n",
       "    <tr>\n",
       "      <th>83</th>\n",
       "      <td>83</td>\n",
       "      <td>Changsha</td>\n",
       "      <td>China</td>\n",
       "      <td>5027975</td>\n",
       "      <td>4921487</td>\n",
       "      <td>0.0216</td>\n",
       "    </tr>\n",
       "    <tr>\n",
       "      <th>84</th>\n",
       "      <td>84</td>\n",
       "      <td>Urumqi</td>\n",
       "      <td>China</td>\n",
       "      <td>5005964</td>\n",
       "      <td>4865038</td>\n",
       "      <td>0.0290</td>\n",
       "    </tr>\n",
       "  </tbody>\n",
       "</table>\n",
       "</div>"
      ],
      "text/plain": [
       "    Unnamed: 0             City Country  Population (2024)  Population (2023)  \\\n",
       "2            2         Shanghai   China           29867918           29210808   \n",
       "7            7          Beijing   China           22189082           21766214   \n",
       "10          10        Chongqing   China           17773923           17340704   \n",
       "18          18        Guangzhou   China           14590096           14284353   \n",
       "19          19          Tianjin   China           14470873           14238643   \n",
       "23          23         Shenzhen   China           13311855           13072633   \n",
       "33          33          Nanjing   China            9947548            9698464   \n",
       "34          34          Chengdu   China            9828110            9653772   \n",
       "40          40    Xi An Shaanxi   China            9013837            8785174   \n",
       "42          42            Wuhan   China            8850850            8718250   \n",
       "44          44         Hangzhou   China            8419842            8237206   \n",
       "45          45           Suzhou   China            8350625            8074031   \n",
       "50          50         Shenyang   China            7830377            7680967   \n",
       "53          53           Foshan   China            7704935            7597386   \n",
       "54          54         Dongguan   China            7675146            7587049   \n",
       "57          57          Haerbin   China            6938008            6803811   \n",
       "63          63           Dalian   China            6217487            6077995   \n",
       "65          65          Qingdao   China            6104597            5986525   \n",
       "66          66        Zhengzhou   China            6014887            5859272   \n",
       "67          67  Ji Nan Shandong   China            5940698            5806031   \n",
       "83          83         Changsha   China            5027975            4921487   \n",
       "84          84           Urumqi   China            5005964            4865038   \n",
       "\n",
       "    Growth Rate  \n",
       "2        0.0225  \n",
       "7        0.0194  \n",
       "10       0.0250  \n",
       "18       0.0214  \n",
       "19       0.0163  \n",
       "23       0.0183  \n",
       "33       0.0257  \n",
       "34       0.0181  \n",
       "40       0.0260  \n",
       "42       0.0152  \n",
       "44       0.0222  \n",
       "45       0.0343  \n",
       "50       0.0195  \n",
       "53       0.0142  \n",
       "54       0.0116  \n",
       "57       0.0197  \n",
       "63       0.0230  \n",
       "65       0.0197  \n",
       "66       0.0266  \n",
       "67       0.0232  \n",
       "83       0.0216  \n",
       "84       0.0290  "
      ]
     },
     "execution_count": 320,
     "metadata": {},
     "output_type": "execute_result"
    }
   ],
   "source": [
    "#What are the mega Chinese cities ?\n",
    "fivemil_China=larger_than_2_mil[(larger_than_2_mil['Country']=='China') & (larger_than_2_mil['Population (2024)']>5000000)]\n",
    "fivemil_China"
   ]
  },
  {
   "cell_type": "code",
   "execution_count": 348,
   "id": "8a52877d-20d6-4b9e-844f-5fa5a1c987fb",
   "metadata": {},
   "outputs": [
    {
     "name": "stderr",
     "output_type": "stream",
     "text": [
      "C:\\Users\\aiden\\AppData\\Local\\Temp\\ipykernel_24768\\3673507677.py:1: SettingWithCopyWarning: \n",
      "A value is trying to be set on a copy of a slice from a DataFrame.\n",
      "Try using .loc[row_indexer,col_indexer] = value instead\n",
      "\n",
      "See the caveats in the documentation: https://pandas.pydata.org/pandas-docs/stable/user_guide/indexing.html#returning-a-view-versus-a-copy\n",
      "  fivemil_China['Region']=['S','N','S','S','N','S','S','S','N','S','S','S','N','S','S','N','N','N','N','N','S','N']\n"
     ]
    },
    {
     "data": {
      "text/html": [
       "<div>\n",
       "<style scoped>\n",
       "    .dataframe tbody tr th:only-of-type {\n",
       "        vertical-align: middle;\n",
       "    }\n",
       "\n",
       "    .dataframe tbody tr th {\n",
       "        vertical-align: top;\n",
       "    }\n",
       "\n",
       "    .dataframe thead th {\n",
       "        text-align: right;\n",
       "    }\n",
       "</style>\n",
       "<table border=\"1\" class=\"dataframe\">\n",
       "  <thead>\n",
       "    <tr style=\"text-align: right;\">\n",
       "      <th></th>\n",
       "      <th>Unnamed: 0</th>\n",
       "      <th>City</th>\n",
       "      <th>Country</th>\n",
       "      <th>Population (2024)</th>\n",
       "      <th>Population (2023)</th>\n",
       "      <th>Growth Rate</th>\n",
       "      <th>N or S</th>\n",
       "      <th>Region</th>\n",
       "    </tr>\n",
       "  </thead>\n",
       "  <tbody>\n",
       "    <tr>\n",
       "      <th>2</th>\n",
       "      <td>2</td>\n",
       "      <td>Shanghai</td>\n",
       "      <td>China</td>\n",
       "      <td>29867918</td>\n",
       "      <td>29210808</td>\n",
       "      <td>0.0225</td>\n",
       "      <td>S</td>\n",
       "      <td>S</td>\n",
       "    </tr>\n",
       "    <tr>\n",
       "      <th>7</th>\n",
       "      <td>7</td>\n",
       "      <td>Beijing</td>\n",
       "      <td>China</td>\n",
       "      <td>22189082</td>\n",
       "      <td>21766214</td>\n",
       "      <td>0.0194</td>\n",
       "      <td>N</td>\n",
       "      <td>N</td>\n",
       "    </tr>\n",
       "    <tr>\n",
       "      <th>10</th>\n",
       "      <td>10</td>\n",
       "      <td>Chongqing</td>\n",
       "      <td>China</td>\n",
       "      <td>17773923</td>\n",
       "      <td>17340704</td>\n",
       "      <td>0.0250</td>\n",
       "      <td>S</td>\n",
       "      <td>S</td>\n",
       "    </tr>\n",
       "    <tr>\n",
       "      <th>18</th>\n",
       "      <td>18</td>\n",
       "      <td>Guangzhou</td>\n",
       "      <td>China</td>\n",
       "      <td>14590096</td>\n",
       "      <td>14284353</td>\n",
       "      <td>0.0214</td>\n",
       "      <td>S</td>\n",
       "      <td>S</td>\n",
       "    </tr>\n",
       "    <tr>\n",
       "      <th>19</th>\n",
       "      <td>19</td>\n",
       "      <td>Tianjin</td>\n",
       "      <td>China</td>\n",
       "      <td>14470873</td>\n",
       "      <td>14238643</td>\n",
       "      <td>0.0163</td>\n",
       "      <td>N</td>\n",
       "      <td>N</td>\n",
       "    </tr>\n",
       "    <tr>\n",
       "      <th>23</th>\n",
       "      <td>23</td>\n",
       "      <td>Shenzhen</td>\n",
       "      <td>China</td>\n",
       "      <td>13311855</td>\n",
       "      <td>13072633</td>\n",
       "      <td>0.0183</td>\n",
       "      <td>S</td>\n",
       "      <td>S</td>\n",
       "    </tr>\n",
       "    <tr>\n",
       "      <th>33</th>\n",
       "      <td>33</td>\n",
       "      <td>Nanjing</td>\n",
       "      <td>China</td>\n",
       "      <td>9947548</td>\n",
       "      <td>9698464</td>\n",
       "      <td>0.0257</td>\n",
       "      <td>S</td>\n",
       "      <td>S</td>\n",
       "    </tr>\n",
       "    <tr>\n",
       "      <th>34</th>\n",
       "      <td>34</td>\n",
       "      <td>Chengdu</td>\n",
       "      <td>China</td>\n",
       "      <td>9828110</td>\n",
       "      <td>9653772</td>\n",
       "      <td>0.0181</td>\n",
       "      <td>S</td>\n",
       "      <td>S</td>\n",
       "    </tr>\n",
       "    <tr>\n",
       "      <th>40</th>\n",
       "      <td>40</td>\n",
       "      <td>Xi An Shaanxi</td>\n",
       "      <td>China</td>\n",
       "      <td>9013837</td>\n",
       "      <td>8785174</td>\n",
       "      <td>0.0260</td>\n",
       "      <td>N</td>\n",
       "      <td>N</td>\n",
       "    </tr>\n",
       "    <tr>\n",
       "      <th>42</th>\n",
       "      <td>42</td>\n",
       "      <td>Wuhan</td>\n",
       "      <td>China</td>\n",
       "      <td>8850850</td>\n",
       "      <td>8718250</td>\n",
       "      <td>0.0152</td>\n",
       "      <td>S</td>\n",
       "      <td>S</td>\n",
       "    </tr>\n",
       "    <tr>\n",
       "      <th>44</th>\n",
       "      <td>44</td>\n",
       "      <td>Hangzhou</td>\n",
       "      <td>China</td>\n",
       "      <td>8419842</td>\n",
       "      <td>8237206</td>\n",
       "      <td>0.0222</td>\n",
       "      <td>S</td>\n",
       "      <td>S</td>\n",
       "    </tr>\n",
       "    <tr>\n",
       "      <th>45</th>\n",
       "      <td>45</td>\n",
       "      <td>Suzhou</td>\n",
       "      <td>China</td>\n",
       "      <td>8350625</td>\n",
       "      <td>8074031</td>\n",
       "      <td>0.0343</td>\n",
       "      <td>S</td>\n",
       "      <td>S</td>\n",
       "    </tr>\n",
       "    <tr>\n",
       "      <th>50</th>\n",
       "      <td>50</td>\n",
       "      <td>Shenyang</td>\n",
       "      <td>China</td>\n",
       "      <td>7830377</td>\n",
       "      <td>7680967</td>\n",
       "      <td>0.0195</td>\n",
       "      <td>N</td>\n",
       "      <td>N</td>\n",
       "    </tr>\n",
       "    <tr>\n",
       "      <th>53</th>\n",
       "      <td>53</td>\n",
       "      <td>Foshan</td>\n",
       "      <td>China</td>\n",
       "      <td>7704935</td>\n",
       "      <td>7597386</td>\n",
       "      <td>0.0142</td>\n",
       "      <td>S</td>\n",
       "      <td>S</td>\n",
       "    </tr>\n",
       "    <tr>\n",
       "      <th>54</th>\n",
       "      <td>54</td>\n",
       "      <td>Dongguan</td>\n",
       "      <td>China</td>\n",
       "      <td>7675146</td>\n",
       "      <td>7587049</td>\n",
       "      <td>0.0116</td>\n",
       "      <td>S</td>\n",
       "      <td>S</td>\n",
       "    </tr>\n",
       "    <tr>\n",
       "      <th>57</th>\n",
       "      <td>57</td>\n",
       "      <td>Haerbin</td>\n",
       "      <td>China</td>\n",
       "      <td>6938008</td>\n",
       "      <td>6803811</td>\n",
       "      <td>0.0197</td>\n",
       "      <td>N</td>\n",
       "      <td>N</td>\n",
       "    </tr>\n",
       "    <tr>\n",
       "      <th>63</th>\n",
       "      <td>63</td>\n",
       "      <td>Dalian</td>\n",
       "      <td>China</td>\n",
       "      <td>6217487</td>\n",
       "      <td>6077995</td>\n",
       "      <td>0.0230</td>\n",
       "      <td>N</td>\n",
       "      <td>N</td>\n",
       "    </tr>\n",
       "    <tr>\n",
       "      <th>65</th>\n",
       "      <td>65</td>\n",
       "      <td>Qingdao</td>\n",
       "      <td>China</td>\n",
       "      <td>6104597</td>\n",
       "      <td>5986525</td>\n",
       "      <td>0.0197</td>\n",
       "      <td>N</td>\n",
       "      <td>N</td>\n",
       "    </tr>\n",
       "    <tr>\n",
       "      <th>66</th>\n",
       "      <td>66</td>\n",
       "      <td>Zhengzhou</td>\n",
       "      <td>China</td>\n",
       "      <td>6014887</td>\n",
       "      <td>5859272</td>\n",
       "      <td>0.0266</td>\n",
       "      <td>N</td>\n",
       "      <td>N</td>\n",
       "    </tr>\n",
       "    <tr>\n",
       "      <th>67</th>\n",
       "      <td>67</td>\n",
       "      <td>Ji Nan Shandong</td>\n",
       "      <td>China</td>\n",
       "      <td>5940698</td>\n",
       "      <td>5806031</td>\n",
       "      <td>0.0232</td>\n",
       "      <td>N</td>\n",
       "      <td>N</td>\n",
       "    </tr>\n",
       "    <tr>\n",
       "      <th>83</th>\n",
       "      <td>83</td>\n",
       "      <td>Changsha</td>\n",
       "      <td>China</td>\n",
       "      <td>5027975</td>\n",
       "      <td>4921487</td>\n",
       "      <td>0.0216</td>\n",
       "      <td>S</td>\n",
       "      <td>S</td>\n",
       "    </tr>\n",
       "    <tr>\n",
       "      <th>84</th>\n",
       "      <td>84</td>\n",
       "      <td>Urumqi</td>\n",
       "      <td>China</td>\n",
       "      <td>5005964</td>\n",
       "      <td>4865038</td>\n",
       "      <td>0.0290</td>\n",
       "      <td>N</td>\n",
       "      <td>N</td>\n",
       "    </tr>\n",
       "  </tbody>\n",
       "</table>\n",
       "</div>"
      ],
      "text/plain": [
       "    Unnamed: 0             City Country  Population (2024)  Population (2023)  \\\n",
       "2            2         Shanghai   China           29867918           29210808   \n",
       "7            7          Beijing   China           22189082           21766214   \n",
       "10          10        Chongqing   China           17773923           17340704   \n",
       "18          18        Guangzhou   China           14590096           14284353   \n",
       "19          19          Tianjin   China           14470873           14238643   \n",
       "23          23         Shenzhen   China           13311855           13072633   \n",
       "33          33          Nanjing   China            9947548            9698464   \n",
       "34          34          Chengdu   China            9828110            9653772   \n",
       "40          40    Xi An Shaanxi   China            9013837            8785174   \n",
       "42          42            Wuhan   China            8850850            8718250   \n",
       "44          44         Hangzhou   China            8419842            8237206   \n",
       "45          45           Suzhou   China            8350625            8074031   \n",
       "50          50         Shenyang   China            7830377            7680967   \n",
       "53          53           Foshan   China            7704935            7597386   \n",
       "54          54         Dongguan   China            7675146            7587049   \n",
       "57          57          Haerbin   China            6938008            6803811   \n",
       "63          63           Dalian   China            6217487            6077995   \n",
       "65          65          Qingdao   China            6104597            5986525   \n",
       "66          66        Zhengzhou   China            6014887            5859272   \n",
       "67          67  Ji Nan Shandong   China            5940698            5806031   \n",
       "83          83         Changsha   China            5027975            4921487   \n",
       "84          84           Urumqi   China            5005964            4865038   \n",
       "\n",
       "    Growth Rate N or S Region  \n",
       "2        0.0225      S      S  \n",
       "7        0.0194      N      N  \n",
       "10       0.0250      S      S  \n",
       "18       0.0214      S      S  \n",
       "19       0.0163      N      N  \n",
       "23       0.0183      S      S  \n",
       "33       0.0257      S      S  \n",
       "34       0.0181      S      S  \n",
       "40       0.0260      N      N  \n",
       "42       0.0152      S      S  \n",
       "44       0.0222      S      S  \n",
       "45       0.0343      S      S  \n",
       "50       0.0195      N      N  \n",
       "53       0.0142      S      S  \n",
       "54       0.0116      S      S  \n",
       "57       0.0197      N      N  \n",
       "63       0.0230      N      N  \n",
       "65       0.0197      N      N  \n",
       "66       0.0266      N      N  \n",
       "67       0.0232      N      N  \n",
       "83       0.0216      S      S  \n",
       "84       0.0290      N      N  "
      ]
     },
     "execution_count": 348,
     "metadata": {},
     "output_type": "execute_result"
    }
   ],
   "source": [
    "#Which cities are Northern? Which cities are Southern?\n",
    "fivemil_China['Region']=['S','N','S','S','N','S','S','S','N','S','S','S','N','S','S','N','N','N','N','N','S','N']\n",
    "fivemil_China"
   ]
  },
  {
   "cell_type": "code",
   "execution_count": 453,
   "id": "a3c400e3-56dd-4295-9142-f6a4c4db361b",
   "metadata": {},
   "outputs": [
    {
     "data": {
      "text/plain": [
       "Text(0.5, 1.0, 'Population of Chinese Mega Cities')"
      ]
     },
     "execution_count": 453,
     "metadata": {},
     "output_type": "execute_result"
    },
    {
     "data": {
      "image/png": "[encoded data removed]",
      "text/plain": [
       "<Figure size 640x480 with 1 Axes>"
      ]
     },
     "metadata": {},
     "output_type": "display_data"
    }
   ],
   "source": [
    "#Population of Chinese mega cities\n",
    "sns.barplot(data=fivemil_China,x='Population (2024)',y='City',hue='Region',palette=['darkorchid','lightpink']).set_title('Population of Chinese Mega Cities')"
   ]
  },
  {
   "cell_type": "code",
   "execution_count": 364,
   "id": "bf2b9e63-3da2-4cc4-9186-73faa5c8d44b",
   "metadata": {},
   "outputs": [
    {
     "data": {
      "text/html": [
       "<div>\n",
       "<style scoped>\n",
       "    .dataframe tbody tr th:only-of-type {\n",
       "        vertical-align: middle;\n",
       "    }\n",
       "\n",
       "    .dataframe tbody tr th {\n",
       "        vertical-align: top;\n",
       "    }\n",
       "\n",
       "    .dataframe thead th {\n",
       "        text-align: right;\n",
       "    }\n",
       "</style>\n",
       "<table border=\"1\" class=\"dataframe\">\n",
       "  <thead>\n",
       "    <tr style=\"text-align: right;\">\n",
       "      <th></th>\n",
       "      <th>Unnamed: 0</th>\n",
       "      <th>City</th>\n",
       "      <th>Country</th>\n",
       "      <th>Population (2024)</th>\n",
       "      <th>Population (2023)</th>\n",
       "      <th>Growth Rate</th>\n",
       "      <th>N or S</th>\n",
       "      <th>Region</th>\n",
       "    </tr>\n",
       "  </thead>\n",
       "  <tbody>\n",
       "    <tr>\n",
       "      <th>63</th>\n",
       "      <td>63</td>\n",
       "      <td>Dalian</td>\n",
       "      <td>China</td>\n",
       "      <td>6217487</td>\n",
       "      <td>6077995</td>\n",
       "      <td>0.023</td>\n",
       "      <td>N</td>\n",
       "      <td>N</td>\n",
       "    </tr>\n",
       "  </tbody>\n",
       "</table>\n",
       "</div>"
      ],
      "text/plain": [
       "    Unnamed: 0    City Country  Population (2024)  Population (2023)  \\\n",
       "63          63  Dalian   China            6217487            6077995   \n",
       "\n",
       "    Growth Rate N or S Region  \n",
       "63        0.023      N      N  "
      ]
     },
     "execution_count": 364,
     "metadata": {},
     "output_type": "execute_result"
    }
   ],
   "source": [
    "#Is Dalian in the list?\n",
    "fivemil_China[fivemil_China['City'].isin(['Dalian'])]"
   ]
  },
  {
   "cell_type": "code",
   "execution_count": 401,
   "id": "f4f24e9c-0993-41f7-9fbf-21d1040566b8",
   "metadata": {},
   "outputs": [
    {
     "name": "stdout",
     "output_type": "stream",
     "text": [
      "    Unnamed: 0       City Country  Population (2024)  Population (2023)  \\\n",
      "2            2   Shanghai   China           29867918           29210808   \n",
      "7            7    Beijing   China           22189082           21766214   \n",
      "10          10  Chongqing   China           17773923           17340704   \n",
      "18          18  Guangzhou   China           14590096           14284353   \n",
      "19          19    Tianjin   China           14470873           14238643   \n",
      "23          23   Shenzhen   China           13311855           13072633   \n",
      "33          33    Nanjing   China            9947548            9698464   \n",
      "34          34    Chengdu   China            9828110            9653772   \n",
      "40          40      Xi An   China            9013837            8785174   \n",
      "42          42      Wuhan   China            8850850            8718250   \n",
      "44          44   Hangzhou   China            8419842            8237206   \n",
      "45          45     Suzhou   China            8350625            8074031   \n",
      "50          50   Shenyang   China            7830377            7680967   \n",
      "53          53     Foshan   China            7704935            7597386   \n",
      "54          54   Dongguan   China            7675146            7587049   \n",
      "57          57     Harbin   China            6938008            6803811   \n",
      "63          63     Dalian   China            6217487            6077995   \n",
      "65          65    Qingdao   China            6104597            5986525   \n",
      "66          66  Zhengzhou   China            6014887            5859272   \n",
      "67          67     Ji Nan   China            5940698            5806031   \n",
      "83          83   Changsha   China            5027975            4921487   \n",
      "84          84     Urumqi   China            5005964            4865038   \n",
      "\n",
      "    Growth Rate N or S Region  \n",
      "2        0.0225      S      S  \n",
      "7        0.0194      N      N  \n",
      "10       0.0250      S      S  \n",
      "18       0.0214      S      S  \n",
      "19       0.0163      N      N  \n",
      "23       0.0183      S      S  \n",
      "33       0.0257      S      S  \n",
      "34       0.0181      S      S  \n",
      "40       0.0260      N      N  \n",
      "42       0.0152      S      S  \n",
      "44       0.0222      S      S  \n",
      "45       0.0343      S      S  \n",
      "50       0.0195      N      N  \n",
      "53       0.0142      S      S  \n",
      "54       0.0116      S      S  \n",
      "57       0.0197      N      N  \n",
      "63       0.0230      N      N  \n",
      "65       0.0197      N      N  \n",
      "66       0.0266      N      N  \n",
      "67       0.0232      N      N  \n",
      "83       0.0216      S      S  \n",
      "84       0.0290      N      N  \n"
     ]
    }
   ],
   "source": [
    "#Remove the province name and correct the misspelling\n",
    "print(fivemil_China.replace(['Xi An Shaanxi','Ji Nan Shandong','Haerbin'],['Xi An','Ji Nan','Harbin']))"
   ]
  },
  {
   "cell_type": "code",
   "execution_count": 443,
   "id": "36bcc2bc-49a0-490e-be73-2a1c11f44234",
   "metadata": {},
   "outputs": [
    {
     "name": "stderr",
     "output_type": "stream",
     "text": [
      "C:\\Users\\aiden\\AppData\\Local\\Temp\\ipykernel_24768\\2045324469.py:4: FutureWarning: \n",
      "\n",
      "Passing `palette` without assigning `hue` is deprecated and will be removed in v0.14.0. Assign the `y` variable to `hue` and set `legend=False` for the same effect.\n",
      "\n",
      "  sns.boxplot(data=fivemil_China,x='Growth Rate',y='Region',palette=\"Blues\",width=0.45,ax=ax[1]).set_title(\"Growth Rate N vs S\")\n"
     ]
    },
    {
     "data": {
      "text/plain": [
       "Text(0.5, 1.0, 'Growth Rate N vs S')"
      ]
     },
     "execution_count": 443,
     "metadata": {},
     "output_type": "execute_result"
    },
    {
     "data": {
      "image/png": "[encoded data removed]",
      "text/plain": [
       "<Figure size 1000x800 with 2 Axes>"
      ]
     },
     "metadata": {},
     "output_type": "display_data"
    }
   ],
   "source": [
    "#Growth rate comparison between cities and regions\n",
    "fig,ax=plt.subplots(1,2,figsize=(10,8))\n",
    "sns.barplot(data=fivemil_China,x='Growth Rate',y='City',hue='Region',palette=['tomato','gold'],ax=ax[0]).set_title(\"Chinese Mega cities' growth rate\")\n",
    "sns.boxplot(data=fivemil_China,x='Growth Rate',y='Region',palette=\"Blues\",width=0.45,ax=ax[1]).set_title(\"Growth Rate N vs S\")"
   ]
  },
  {
   "cell_type": "code",
   "execution_count": 447,
   "id": "be0bfc70-0f24-4131-b765-088cb2ba04d0",
   "metadata": {},
   "outputs": [
    {
     "data": {
      "text/html": [
       "<div>\n",
       "<style scoped>\n",
       "    .dataframe tbody tr th:only-of-type {\n",
       "        vertical-align: middle;\n",
       "    }\n",
       "\n",
       "    .dataframe tbody tr th {\n",
       "        vertical-align: top;\n",
       "    }\n",
       "\n",
       "    .dataframe thead th {\n",
       "        text-align: right;\n",
       "    }\n",
       "</style>\n",
       "<table border=\"1\" class=\"dataframe\">\n",
       "  <thead>\n",
       "    <tr style=\"text-align: right;\">\n",
       "      <th></th>\n",
       "      <th>Unnamed: 0</th>\n",
       "      <th>City</th>\n",
       "      <th>Country</th>\n",
       "      <th>Population (2024)</th>\n",
       "      <th>Population (2023)</th>\n",
       "      <th>Growth Rate</th>\n",
       "    </tr>\n",
       "  </thead>\n",
       "  <tbody>\n",
       "    <tr>\n",
       "      <th>0</th>\n",
       "      <td>0</td>\n",
       "      <td>Tokyo</td>\n",
       "      <td>Japan</td>\n",
       "      <td>37115035</td>\n",
       "      <td>37194105</td>\n",
       "      <td>-0.0021</td>\n",
       "    </tr>\n",
       "    <tr>\n",
       "      <th>9</th>\n",
       "      <td>9</td>\n",
       "      <td>Osaka</td>\n",
       "      <td>Japan</td>\n",
       "      <td>18967459</td>\n",
       "      <td>19013434</td>\n",
       "      <td>-0.0024</td>\n",
       "    </tr>\n",
       "    <tr>\n",
       "      <th>39</th>\n",
       "      <td>39</td>\n",
       "      <td>Nagoya</td>\n",
       "      <td>Japan</td>\n",
       "      <td>9556879</td>\n",
       "      <td>9569328</td>\n",
       "      <td>-0.0013</td>\n",
       "    </tr>\n",
       "    <tr>\n",
       "      <th>77</th>\n",
       "      <td>77</td>\n",
       "      <td>Fukuoka</td>\n",
       "      <td>Japan</td>\n",
       "      <td>5478076</td>\n",
       "      <td>5490271</td>\n",
       "      <td>-0.0022</td>\n",
       "    </tr>\n",
       "    <tr>\n",
       "      <th>174</th>\n",
       "      <td>174</td>\n",
       "      <td>Shizuoka</td>\n",
       "      <td>Japan</td>\n",
       "      <td>2935527</td>\n",
       "      <td>2937359</td>\n",
       "      <td>-0.0006</td>\n",
       "    </tr>\n",
       "    <tr>\n",
       "      <th>195</th>\n",
       "      <td>195</td>\n",
       "      <td>Sapporo</td>\n",
       "      <td>Japan</td>\n",
       "      <td>2660947</td>\n",
       "      <td>2666112</td>\n",
       "      <td>-0.0019</td>\n",
       "    </tr>\n",
       "    <tr>\n",
       "      <th>223</th>\n",
       "      <td>223</td>\n",
       "      <td>Sendai</td>\n",
       "      <td>Japan</td>\n",
       "      <td>2341433</td>\n",
       "      <td>2342302</td>\n",
       "      <td>-0.0004</td>\n",
       "    </tr>\n",
       "    <tr>\n",
       "      <th>252</th>\n",
       "      <td>252</td>\n",
       "      <td>Hiroshima</td>\n",
       "      <td>Japan</td>\n",
       "      <td>2062884</td>\n",
       "      <td>2067591</td>\n",
       "      <td>-0.0023</td>\n",
       "    </tr>\n",
       "  </tbody>\n",
       "</table>\n",
       "</div>"
      ],
      "text/plain": [
       "     Unnamed: 0       City Country  Population (2024)  Population (2023)  \\\n",
       "0             0      Tokyo   Japan           37115035           37194105   \n",
       "9             9      Osaka   Japan           18967459           19013434   \n",
       "39           39     Nagoya   Japan            9556879            9569328   \n",
       "77           77    Fukuoka   Japan            5478076            5490271   \n",
       "174         174   Shizuoka   Japan            2935527            2937359   \n",
       "195         195    Sapporo   Japan            2660947            2666112   \n",
       "223         223     Sendai   Japan            2341433            2342302   \n",
       "252         252  Hiroshima   Japan            2062884            2067591   \n",
       "\n",
       "     Growth Rate  \n",
       "0        -0.0021  \n",
       "9        -0.0024  \n",
       "39       -0.0013  \n",
       "77       -0.0022  \n",
       "174      -0.0006  \n",
       "195      -0.0019  \n",
       "223      -0.0004  \n",
       "252      -0.0023  "
      ]
     },
     "execution_count": 447,
     "metadata": {},
     "output_type": "execute_result"
    }
   ],
   "source": [
    "#Japanese cities with >1 mil people\n",
    "onemil_Japan=dataset[(dataset['Country']=='Japan') & (dataset['Population (2024)']>1000000)]\n",
    "onemil_Japan"
   ]
  },
  {
   "cell_type": "code",
   "execution_count": 449,
   "id": "38ed9c88-4297-48d3-a45c-ff9bb71be4cd",
   "metadata": {},
   "outputs": [
    {
     "name": "stderr",
     "output_type": "stream",
     "text": [
      "C:\\Users\\aiden\\AppData\\Local\\Temp\\ipykernel_24768\\3771558124.py:1: SettingWithCopyWarning: \n",
      "A value is trying to be set on a copy of a slice from a DataFrame.\n",
      "Try using .loc[row_indexer,col_indexer] = value instead\n",
      "\n",
      "See the caveats in the documentation: https://pandas.pydata.org/pandas-docs/stable/user_guide/indexing.html#returning-a-view-versus-a-copy\n",
      "  onemil_Japan['Region']=['East','West','Central','West','Central','East','East','West']\n"
     ]
    }
   ],
   "source": [
    "#the respective region of Japanese cities with 1 mil population+\n",
    "onemil_Japan['Region']=['East','West','Central','West','Central','East','East','West']"
   ]
  },
  {
   "cell_type": "code",
   "execution_count": 459,
   "id": "a62dc11a-21fd-415f-8d5f-c0cb94b95011",
   "metadata": {},
   "outputs": [
    {
     "name": "stderr",
     "output_type": "stream",
     "text": [
      "C:\\Users\\aiden\\AppData\\Local\\Temp\\ipykernel_24768\\3874180665.py:4: FutureWarning: \n",
      "\n",
      "Passing `palette` without assigning `hue` is deprecated and will be removed in v0.14.0. Assign the `x` variable to `hue` and set `legend=False` for the same effect.\n",
      "\n",
      "  sns.barplot(data=onemil_Japan,y='Population (2024)',x='Region',palette=['lawngreen','aqua','maroon'],ax=ax[1]\n"
     ]
    },
    {
     "data": {
      "text/plain": [
       "Text(0.5, 1.0, 'Population by region')"
      ]
     },
     "execution_count": 459,
     "metadata": {},
     "output_type": "execute_result"
    },
    {
     "data": {
      "image/png": "[encoded data removed]",
      "text/plain": [
       "<Figure size 1000x800 with 2 Axes>"
      ]
     },
     "metadata": {},
     "output_type": "display_data"
    }
   ],
   "source": [
    "#Population of Chinese mega cities\n",
    "fig,ax=plt.subplots(1,2,figsize=(10,8))\n",
    "sns.barplot(data=onemil_Japan,x='Population (2024)',y='City',hue='Region',palette=['lawngreen','aqua','maroon'],ax=ax[0]).set_title('Population of Japanese mega cities')\n",
    "sns.barplot(data=onemil_Japan,y='Population (2024)',x='Region',palette=['lawngreen','aqua','maroon'],ax=ax[1]\n",
    "           ,errorbar=None).set_title('Population by region')"
   ]
  },
  {
   "cell_type": "code",
   "execution_count": null,
   "id": "b2dde46a-32e9-464b-9175-d4b73efc886b",
   "metadata": {},
   "outputs": [],
   "source": []
  }
 ],
 "metadata": {
  "kernelspec": {
   "display_name": "Python 3 (ipykernel)",
   "language": "python",
   "name": "python3"
  },
  "language_info": {
   "codemirror_mode": {
    "name": "ipython",
    "version": 3
   },
   "file_extension": ".py",
   "mimetype": "text/x-python",
   "name": "python",
   "nbconvert_exporter": "python",
   "pygments_lexer": "ipython3",
   "version": "3.12.4"
  }
 },
 "nbformat": 4,
 "nbformat_minor": 5
}
